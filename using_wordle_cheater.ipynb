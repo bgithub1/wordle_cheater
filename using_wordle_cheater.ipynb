{
 "cells": [
  {
   "cell_type": "code",
   "execution_count": 2,
   "id": "1624a86b",
   "metadata": {},
   "outputs": [],
   "source": [
    "import numpy as np\n",
    "import pandas as pd\n",
    "import datetime\n",
    "import pytz\n",
    "import requests\n",
    "import wordle_cheater as wrdlc\n",
    "from IPython import display\n",
    "import requests\n",
    "from lxml import html\n",
    "import datetime\n",
    "import importlib as imp"
   ]
  },
  {
   "cell_type": "markdown",
   "id": "c825cfc3",
   "metadata": {},
   "source": [
    "___\n",
    "### Use wordle_cheater.solveall to solve wordle, given 2 initial words and a solution word\n"
   ]
  },
  {
   "cell_type": "code",
   "execution_count": 2,
   "id": "f47d6d95",
   "metadata": {},
   "outputs": [],
   "source": [
    "# Create a wordle_cheater.wordl instance\n",
    "wdl = wrdlc.wordl()\n",
    "# Define your first 2 words\n",
    "initial_words = ['alert','noisy','chump']\n",
    "\n",
    "# Define a month and a day\n",
    "month = \"Feb\"\n",
    "day = 15\n",
    "month_day = month + \" \" + str(day) + \" -\"\n",
    "df_wdlh = wdl.df_word_history[wdl.df_word_history['date']<=month_day]\n",
    "\n",
    "# Get the first occurrence which is that day, or lower\n",
    "df_wdlh = df_wdlh.iloc[0:1]\n",
    "\n",
    "# Get that days solution\n",
    "solution = df_wdlh.solution.iloc[0].lower()\n",
    "# words_used,letter_lists,list_df = wrdlc.solve(initial_words,solution)\n",
    "words_used,letter_status_used,list_df = wrdlc.solveall(initial_words,solution)"
   ]
  },
  {
   "cell_type": "code",
   "execution_count": 3,
   "id": "aa77e5ad",
   "metadata": {
    "scrolled": true
   },
   "outputs": [
    {
     "data": {
      "text/html": [
       "<style  type=\"text/css\" >\n",
       "</style><table id=\"T_20b673f6_b9c5_11ed_bcca_8c859025e7f9\" ><caption>Possible Words after word: alert</caption><thead>    <tr>        <th class=\"blank level0\" ></th>        <th class=\"col_heading level0 col0\" >word</th>        <th class=\"col_heading level0 col1\" >probability</th>    </tr></thead><tbody>\n",
       "                <tr>\n",
       "                        <th id=\"T_20b673f6_b9c5_11ed_bcca_8c859025e7f9level0_row0\" class=\"row_heading level0 row0\" >1</th>\n",
       "                        <td id=\"T_20b673f6_b9c5_11ed_bcca_8c859025e7f9row0_col0\" class=\"data row0 col0\" >local</td>\n",
       "                        <td id=\"T_20b673f6_b9c5_11ed_bcca_8c859025e7f9row0_col1\" class=\"data row0 col1\" >0.249211</td>\n",
       "            </tr>\n",
       "            <tr>\n",
       "                        <th id=\"T_20b673f6_b9c5_11ed_bcca_8c859025e7f9level0_row1\" class=\"row_heading level0 row1\" >2</th>\n",
       "                        <td id=\"T_20b673f6_b9c5_11ed_bcca_8c859025e7f9row1_col0\" class=\"data row1 col0\" >small</td>\n",
       "                        <td id=\"T_20b673f6_b9c5_11ed_bcca_8c859025e7f9row1_col1\" class=\"data row1 col1\" >0.191800</td>\n",
       "            </tr>\n",
       "            <tr>\n",
       "                        <th id=\"T_20b673f6_b9c5_11ed_bcca_8c859025e7f9level0_row2\" class=\"row_heading level0 row2\" >3</th>\n",
       "                        <td id=\"T_20b673f6_b9c5_11ed_bcca_8c859025e7f9row2_col0\" class=\"data row2 col0\" >shall</td>\n",
       "                        <td id=\"T_20b673f6_b9c5_11ed_bcca_8c859025e7f9row2_col1\" class=\"data row2 col1\" >0.176697</td>\n",
       "            </tr>\n",
       "            <tr>\n",
       "                        <th id=\"T_20b673f6_b9c5_11ed_bcca_8c859025e7f9level0_row3\" class=\"row_heading level0 row3\" >4</th>\n",
       "                        <td id=\"T_20b673f6_b9c5_11ed_bcca_8c859025e7f9row3_col0\" class=\"data row3 col0\" >daily</td>\n",
       "                        <td id=\"T_20b673f6_b9c5_11ed_bcca_8c859025e7f9row3_col1\" class=\"data row3 col1\" >0.097421</td>\n",
       "            </tr>\n",
       "            <tr>\n",
       "                        <th id=\"T_20b673f6_b9c5_11ed_bcca_8c859025e7f9level0_row4\" class=\"row_heading level0 row4\" >5</th>\n",
       "                        <td id=\"T_20b673f6_b9c5_11ed_bcca_8c859025e7f9row4_col0\" class=\"data row4 col0\" >final</td>\n",
       "                        <td id=\"T_20b673f6_b9c5_11ed_bcca_8c859025e7f9row4_col1\" class=\"data row4 col1\" >0.089883</td>\n",
       "            </tr>\n",
       "            <tr>\n",
       "                        <th id=\"T_20b673f6_b9c5_11ed_bcca_8c859025e7f9level0_row5\" class=\"row_heading level0 row5\" >6</th>\n",
       "                        <td id=\"T_20b673f6_b9c5_11ed_bcca_8c859025e7f9row5_col0\" class=\"data row5 col0\" >valid</td>\n",
       "                        <td id=\"T_20b673f6_b9c5_11ed_bcca_8c859025e7f9row5_col1\" class=\"data row5 col1\" >0.052554</td>\n",
       "            </tr>\n",
       "            <tr>\n",
       "                        <th id=\"T_20b673f6_b9c5_11ed_bcca_8c859025e7f9level0_row6\" class=\"row_heading level0 row6\" >7</th>\n",
       "                        <td id=\"T_20b673f6_b9c5_11ed_bcca_8c859025e7f9row6_col0\" class=\"data row6 col0\" >villa</td>\n",
       "                        <td id=\"T_20b673f6_b9c5_11ed_bcca_8c859025e7f9row6_col1\" class=\"data row6 col1\" >0.016189</td>\n",
       "            </tr>\n",
       "            <tr>\n",
       "                        <th id=\"T_20b673f6_b9c5_11ed_bcca_8c859025e7f9level0_row7\" class=\"row_heading level0 row7\" >8</th>\n",
       "                        <td id=\"T_20b673f6_b9c5_11ed_bcca_8c859025e7f9row7_col0\" class=\"data row7 col0\" >usual</td>\n",
       "                        <td id=\"T_20b673f6_b9c5_11ed_bcca_8c859025e7f9row7_col1\" class=\"data row7 col1\" >0.015689</td>\n",
       "            </tr>\n",
       "            <tr>\n",
       "                        <th id=\"T_20b673f6_b9c5_11ed_bcca_8c859025e7f9level0_row8\" class=\"row_heading level0 row8\" >9</th>\n",
       "                        <td id=\"T_20b673f6_b9c5_11ed_bcca_8c859025e7f9row8_col0\" class=\"data row8 col0\" >salon</td>\n",
       "                        <td id=\"T_20b673f6_b9c5_11ed_bcca_8c859025e7f9row8_col1\" class=\"data row8 col1\" >0.009277</td>\n",
       "            </tr>\n",
       "            <tr>\n",
       "                        <th id=\"T_20b673f6_b9c5_11ed_bcca_8c859025e7f9level0_row9\" class=\"row_heading level0 row9\" >10</th>\n",
       "                        <td id=\"T_20b673f6_b9c5_11ed_bcca_8c859025e7f9row9_col0\" class=\"data row9 col0\" >laugh</td>\n",
       "                        <td id=\"T_20b673f6_b9c5_11ed_bcca_8c859025e7f9row9_col1\" class=\"data row9 col1\" >0.009041</td>\n",
       "            </tr>\n",
       "            <tr>\n",
       "                        <th id=\"T_20b673f6_b9c5_11ed_bcca_8c859025e7f9level0_row10\" class=\"row_heading level0 row10\" >11</th>\n",
       "                        <td id=\"T_20b673f6_b9c5_11ed_bcca_8c859025e7f9row10_col0\" class=\"data row10 col0\" >vocal</td>\n",
       "                        <td id=\"T_20b673f6_b9c5_11ed_bcca_8c859025e7f9row10_col1\" class=\"data row10 col1\" >0.008360</td>\n",
       "            </tr>\n",
       "            <tr>\n",
       "                        <th id=\"T_20b673f6_b9c5_11ed_bcca_8c859025e7f9level0_row11\" class=\"row_heading level0 row11\" >12</th>\n",
       "                        <td id=\"T_20b673f6_b9c5_11ed_bcca_8c859025e7f9row11_col0\" class=\"data row11 col0\" >salad</td>\n",
       "                        <td id=\"T_20b673f6_b9c5_11ed_bcca_8c859025e7f9row11_col1\" class=\"data row11 col1\" >0.008214</td>\n",
       "            </tr>\n",
       "            <tr>\n",
       "                        <th id=\"T_20b673f6_b9c5_11ed_bcca_8c859025e7f9level0_row12\" class=\"row_heading level0 row12\" >13</th>\n",
       "                        <td id=\"T_20b673f6_b9c5_11ed_bcca_8c859025e7f9row12_col0\" class=\"data row12 col0\" >canal</td>\n",
       "                        <td id=\"T_20b673f6_b9c5_11ed_bcca_8c859025e7f9row12_col1\" class=\"data row12 col1\" >0.007620</td>\n",
       "            </tr>\n",
       "            <tr>\n",
       "                        <th id=\"T_20b673f6_b9c5_11ed_bcca_8c859025e7f9level0_row13\" class=\"row_heading level0 row13\" >14</th>\n",
       "                        <td id=\"T_20b673f6_b9c5_11ed_bcca_8c859025e7f9row13_col0\" class=\"data row13 col0\" >naval</td>\n",
       "                        <td id=\"T_20b673f6_b9c5_11ed_bcca_8c859025e7f9row13_col1\" class=\"data row13 col1\" >0.007448</td>\n",
       "            </tr>\n",
       "            <tr>\n",
       "                        <th id=\"T_20b673f6_b9c5_11ed_bcca_8c859025e7f9level0_row14\" class=\"row_heading level0 row14\" >15</th>\n",
       "                        <td id=\"T_20b673f6_b9c5_11ed_bcca_8c859025e7f9row14_col0\" class=\"data row14 col0\" >sally</td>\n",
       "                        <td id=\"T_20b673f6_b9c5_11ed_bcca_8c859025e7f9row14_col1\" class=\"data row14 col1\" >0.005461</td>\n",
       "            </tr>\n",
       "            <tr>\n",
       "                        <th id=\"T_20b673f6_b9c5_11ed_bcca_8c859025e7f9level0_row15\" class=\"row_heading level0 row15\" >16</th>\n",
       "                        <td id=\"T_20b673f6_b9c5_11ed_bcca_8c859025e7f9row15_col0\" class=\"data row15 col0\" >focal</td>\n",
       "                        <td id=\"T_20b673f6_b9c5_11ed_bcca_8c859025e7f9row15_col1\" class=\"data row15 col1\" >0.005380</td>\n",
       "            </tr>\n",
       "            <tr>\n",
       "                        <th id=\"T_20b673f6_b9c5_11ed_bcca_8c859025e7f9level0_row16\" class=\"row_heading level0 row16\" >17</th>\n",
       "                        <td id=\"T_20b673f6_b9c5_11ed_bcca_8c859025e7f9row16_col0\" class=\"data row16 col0\" >badly</td>\n",
       "                        <td id=\"T_20b673f6_b9c5_11ed_bcca_8c859025e7f9row16_col1\" class=\"data row16 col1\" >0.004869</td>\n",
       "            </tr>\n",
       "            <tr>\n",
       "                        <th id=\"T_20b673f6_b9c5_11ed_bcca_8c859025e7f9level0_row17\" class=\"row_heading level0 row17\" >18</th>\n",
       "                        <td id=\"T_20b673f6_b9c5_11ed_bcca_8c859025e7f9row17_col0\" class=\"data row17 col0\" >loyal</td>\n",
       "                        <td id=\"T_20b673f6_b9c5_11ed_bcca_8c859025e7f9row17_col1\" class=\"data row17 col1\" >0.004141</td>\n",
       "            </tr>\n",
       "            <tr>\n",
       "                        <th id=\"T_20b673f6_b9c5_11ed_bcca_8c859025e7f9level0_row18\" class=\"row_heading level0 row18\" >19</th>\n",
       "                        <td id=\"T_20b673f6_b9c5_11ed_bcca_8c859025e7f9row18_col0\" class=\"data row18 col0\" >salsa</td>\n",
       "                        <td id=\"T_20b673f6_b9c5_11ed_bcca_8c859025e7f9row18_col1\" class=\"data row18 col1\" >0.003897</td>\n",
       "            </tr>\n",
       "            <tr>\n",
       "                        <th id=\"T_20b673f6_b9c5_11ed_bcca_8c859025e7f9level0_row19\" class=\"row_heading level0 row19\" >20</th>\n",
       "                        <td id=\"T_20b673f6_b9c5_11ed_bcca_8c859025e7f9row19_col0\" class=\"data row19 col0\" >sadly</td>\n",
       "                        <td id=\"T_20b673f6_b9c5_11ed_bcca_8c859025e7f9row19_col1\" class=\"data row19 col1\" >0.003595</td>\n",
       "            </tr>\n",
       "            <tr>\n",
       "                        <th id=\"T_20b673f6_b9c5_11ed_bcca_8c859025e7f9level0_row20\" class=\"row_heading level0 row20\" >21</th>\n",
       "                        <td id=\"T_20b673f6_b9c5_11ed_bcca_8c859025e7f9row20_col0\" class=\"data row20 col0\" >basil</td>\n",
       "                        <td id=\"T_20b673f6_b9c5_11ed_bcca_8c859025e7f9row20_col1\" class=\"data row20 col1\" >0.002538</td>\n",
       "            </tr>\n",
       "            <tr>\n",
       "                        <th id=\"T_20b673f6_b9c5_11ed_bcca_8c859025e7f9level0_row21\" class=\"row_heading level0 row21\" >22</th>\n",
       "                        <td id=\"T_20b673f6_b9c5_11ed_bcca_8c859025e7f9row21_col0\" class=\"data row21 col0\" >nasal</td>\n",
       "                        <td id=\"T_20b673f6_b9c5_11ed_bcca_8c859025e7f9row21_col1\" class=\"data row21 col1\" >0.002334</td>\n",
       "            </tr>\n",
       "            <tr>\n",
       "                        <th id=\"T_20b673f6_b9c5_11ed_bcca_8c859025e7f9level0_row22\" class=\"row_heading level0 row22\" >23</th>\n",
       "                        <td id=\"T_20b673f6_b9c5_11ed_bcca_8c859025e7f9row22_col0\" class=\"data row22 col0\" >chalk</td>\n",
       "                        <td id=\"T_20b673f6_b9c5_11ed_bcca_8c859025e7f9row22_col1\" class=\"data row22 col1\" >0.002300</td>\n",
       "            </tr>\n",
       "            <tr>\n",
       "                        <th id=\"T_20b673f6_b9c5_11ed_bcca_8c859025e7f9level0_row23\" class=\"row_heading level0 row23\" >24</th>\n",
       "                        <td id=\"T_20b673f6_b9c5_11ed_bcca_8c859025e7f9row23_col0\" class=\"data row23 col0\" >viola</td>\n",
       "                        <td id=\"T_20b673f6_b9c5_11ed_bcca_8c859025e7f9row23_col1\" class=\"data row23 col1\" >0.002263</td>\n",
       "            </tr>\n",
       "            <tr>\n",
       "                        <th id=\"T_20b673f6_b9c5_11ed_bcca_8c859025e7f9level0_row24\" class=\"row_heading level0 row24\" >25</th>\n",
       "                        <td id=\"T_20b673f6_b9c5_11ed_bcca_8c859025e7f9row24_col0\" class=\"data row24 col0\" >psalm</td>\n",
       "                        <td id=\"T_20b673f6_b9c5_11ed_bcca_8c859025e7f9row24_col1\" class=\"data row24 col1\" >0.002043</td>\n",
       "            </tr>\n",
       "            <tr>\n",
       "                        <th id=\"T_20b673f6_b9c5_11ed_bcca_8c859025e7f9level0_row25\" class=\"row_heading level0 row25\" >26</th>\n",
       "                        <td id=\"T_20b673f6_b9c5_11ed_bcca_8c859025e7f9row25_col0\" class=\"data row25 col0\" >basal</td>\n",
       "                        <td id=\"T_20b673f6_b9c5_11ed_bcca_8c859025e7f9row25_col1\" class=\"data row25 col1\" >0.001677</td>\n",
       "            </tr>\n",
       "            <tr>\n",
       "                        <th id=\"T_20b673f6_b9c5_11ed_bcca_8c859025e7f9level0_row26\" class=\"row_heading level0 row26\" >27</th>\n",
       "                        <td id=\"T_20b673f6_b9c5_11ed_bcca_8c859025e7f9row26_col0\" class=\"data row26 col0\" >lilac</td>\n",
       "                        <td id=\"T_20b673f6_b9c5_11ed_bcca_8c859025e7f9row26_col1\" class=\"data row26 col1\" >0.001600</td>\n",
       "            </tr>\n",
       "            <tr>\n",
       "                        <th id=\"T_20b673f6_b9c5_11ed_bcca_8c859025e7f9level0_row27\" class=\"row_heading level0 row27\" >28</th>\n",
       "                        <td id=\"T_20b673f6_b9c5_11ed_bcca_8c859025e7f9row27_col0\" class=\"data row27 col0\" >modal</td>\n",
       "                        <td id=\"T_20b673f6_b9c5_11ed_bcca_8c859025e7f9row27_col1\" class=\"data row27 col1\" >0.001582</td>\n",
       "            </tr>\n",
       "            <tr>\n",
       "                        <th id=\"T_20b673f6_b9c5_11ed_bcca_8c859025e7f9level0_row28\" class=\"row_heading level0 row28\" >29</th>\n",
       "                        <td id=\"T_20b673f6_b9c5_11ed_bcca_8c859025e7f9row28_col0\" class=\"data row28 col0\" >snail</td>\n",
       "                        <td id=\"T_20b673f6_b9c5_11ed_bcca_8c859025e7f9row28_col1\" class=\"data row28 col1\" >0.001455</td>\n",
       "            </tr>\n",
       "            <tr>\n",
       "                        <th id=\"T_20b673f6_b9c5_11ed_bcca_8c859025e7f9level0_row29\" class=\"row_heading level0 row29\" >30</th>\n",
       "                        <td id=\"T_20b673f6_b9c5_11ed_bcca_8c859025e7f9row29_col0\" class=\"data row29 col0\" >palsy</td>\n",
       "                        <td id=\"T_20b673f6_b9c5_11ed_bcca_8c859025e7f9row29_col1\" class=\"data row29 col1\" >0.001297</td>\n",
       "            </tr>\n",
       "            <tr>\n",
       "                        <th id=\"T_20b673f6_b9c5_11ed_bcca_8c859025e7f9level0_row30\" class=\"row_heading level0 row30\" >31</th>\n",
       "                        <td id=\"T_20b673f6_b9c5_11ed_bcca_8c859025e7f9row30_col0\" class=\"data row30 col0\" >scalp</td>\n",
       "                        <td id=\"T_20b673f6_b9c5_11ed_bcca_8c859025e7f9row30_col1\" class=\"data row30 col1\" >0.001249</td>\n",
       "            </tr>\n",
       "            <tr>\n",
       "                        <th id=\"T_20b673f6_b9c5_11ed_bcca_8c859025e7f9level0_row31\" class=\"row_heading level0 row31\" >32</th>\n",
       "                        <td id=\"T_20b673f6_b9c5_11ed_bcca_8c859025e7f9row31_col0\" class=\"data row31 col0\" >quail</td>\n",
       "                        <td id=\"T_20b673f6_b9c5_11ed_bcca_8c859025e7f9row31_col1\" class=\"data row31 col1\" >0.001177</td>\n",
       "            </tr>\n",
       "            <tr>\n",
       "                        <th id=\"T_20b673f6_b9c5_11ed_bcca_8c859025e7f9level0_row32\" class=\"row_heading level0 row32\" >33</th>\n",
       "                        <td id=\"T_20b673f6_b9c5_11ed_bcca_8c859025e7f9row32_col0\" class=\"data row32 col0\" >manly</td>\n",
       "                        <td id=\"T_20b673f6_b9c5_11ed_bcca_8c859025e7f9row32_col1\" class=\"data row32 col1\" >0.001160</td>\n",
       "            </tr>\n",
       "            <tr>\n",
       "                        <th id=\"T_20b673f6_b9c5_11ed_bcca_8c859025e7f9level0_row33\" class=\"row_heading level0 row33\" >34</th>\n",
       "                        <td id=\"T_20b673f6_b9c5_11ed_bcca_8c859025e7f9row33_col0\" class=\"data row33 col0\" >polka</td>\n",
       "                        <td id=\"T_20b673f6_b9c5_11ed_bcca_8c859025e7f9row33_col1\" class=\"data row33 col1\" >0.001144</td>\n",
       "            </tr>\n",
       "            <tr>\n",
       "                        <th id=\"T_20b673f6_b9c5_11ed_bcca_8c859025e7f9level0_row34\" class=\"row_heading level0 row34\" >35</th>\n",
       "                        <td id=\"T_20b673f6_b9c5_11ed_bcca_8c859025e7f9row34_col0\" class=\"data row34 col0\" >bylaw</td>\n",
       "                        <td id=\"T_20b673f6_b9c5_11ed_bcca_8c859025e7f9row34_col1\" class=\"data row34 col1\" >0.000986</td>\n",
       "            </tr>\n",
       "            <tr>\n",
       "                        <th id=\"T_20b673f6_b9c5_11ed_bcca_8c859025e7f9level0_row35\" class=\"row_heading level0 row35\" >36</th>\n",
       "                        <td id=\"T_20b673f6_b9c5_11ed_bcca_8c859025e7f9row35_col0\" class=\"data row35 col0\" >shawl</td>\n",
       "                        <td id=\"T_20b673f6_b9c5_11ed_bcca_8c859025e7f9row35_col1\" class=\"data row35 col1\" >0.000931</td>\n",
       "            </tr>\n",
       "            <tr>\n",
       "                        <th id=\"T_20b673f6_b9c5_11ed_bcca_8c859025e7f9level0_row36\" class=\"row_heading level0 row36\" >37</th>\n",
       "                        <td id=\"T_20b673f6_b9c5_11ed_bcca_8c859025e7f9row36_col0\" class=\"data row36 col0\" >inlay</td>\n",
       "                        <td id=\"T_20b673f6_b9c5_11ed_bcca_8c859025e7f9row36_col1\" class=\"data row36 col1\" >0.000889</td>\n",
       "            </tr>\n",
       "            <tr>\n",
       "                        <th id=\"T_20b673f6_b9c5_11ed_bcca_8c859025e7f9level0_row37\" class=\"row_heading level0 row37\" >38</th>\n",
       "                        <td id=\"T_20b673f6_b9c5_11ed_bcca_8c859025e7f9row37_col0\" class=\"data row37 col0\" >koala</td>\n",
       "                        <td id=\"T_20b673f6_b9c5_11ed_bcca_8c859025e7f9row37_col1\" class=\"data row37 col1\" >0.000849</td>\n",
       "            </tr>\n",
       "            <tr>\n",
       "                        <th id=\"T_20b673f6_b9c5_11ed_bcca_8c859025e7f9level0_row38\" class=\"row_heading level0 row38\" >39</th>\n",
       "                        <td id=\"T_20b673f6_b9c5_11ed_bcca_8c859025e7f9row38_col0\" class=\"data row38 col0\" >papal</td>\n",
       "                        <td id=\"T_20b673f6_b9c5_11ed_bcca_8c859025e7f9row38_col1\" class=\"data row38 col1\" >0.000695</td>\n",
       "            </tr>\n",
       "            <tr>\n",
       "                        <th id=\"T_20b673f6_b9c5_11ed_bcca_8c859025e7f9level0_row39\" class=\"row_heading level0 row39\" >40</th>\n",
       "                        <td id=\"T_20b673f6_b9c5_11ed_bcca_8c859025e7f9row39_col0\" class=\"data row39 col0\" >lasso</td>\n",
       "                        <td id=\"T_20b673f6_b9c5_11ed_bcca_8c859025e7f9row39_col1\" class=\"data row39 col1\" >0.000528</td>\n",
       "            </tr>\n",
       "            <tr>\n",
       "                        <th id=\"T_20b673f6_b9c5_11ed_bcca_8c859025e7f9level0_row40\" class=\"row_heading level0 row40\" >41</th>\n",
       "                        <td id=\"T_20b673f6_b9c5_11ed_bcca_8c859025e7f9row40_col0\" class=\"data row40 col0\" >madly</td>\n",
       "                        <td id=\"T_20b673f6_b9c5_11ed_bcca_8c859025e7f9row40_col1\" class=\"data row40 col1\" >0.000502</td>\n",
       "            </tr>\n",
       "            <tr>\n",
       "                        <th id=\"T_20b673f6_b9c5_11ed_bcca_8c859025e7f9level0_row41\" class=\"row_heading level0 row41\" >42</th>\n",
       "                        <td id=\"T_20b673f6_b9c5_11ed_bcca_8c859025e7f9row41_col0\" class=\"data row41 col0\" >zonal</td>\n",
       "                        <td id=\"T_20b673f6_b9c5_11ed_bcca_8c859025e7f9row41_col1\" class=\"data row41 col1\" >0.000494</td>\n",
       "            </tr>\n",
       "            <tr>\n",
       "                        <th id=\"T_20b673f6_b9c5_11ed_bcca_8c859025e7f9level0_row42\" class=\"row_heading level0 row42\" >43</th>\n",
       "                        <td id=\"T_20b673f6_b9c5_11ed_bcca_8c859025e7f9row42_col0\" class=\"data row42 col0\" >cabal</td>\n",
       "                        <td id=\"T_20b673f6_b9c5_11ed_bcca_8c859025e7f9row42_col1\" class=\"data row42 col1\" >0.000489</td>\n",
       "            </tr>\n",
       "            <tr>\n",
       "                        <th id=\"T_20b673f6_b9c5_11ed_bcca_8c859025e7f9level0_row43\" class=\"row_heading level0 row43\" >44</th>\n",
       "                        <td id=\"T_20b673f6_b9c5_11ed_bcca_8c859025e7f9row43_col0\" class=\"data row43 col0\" >voila</td>\n",
       "                        <td id=\"T_20b673f6_b9c5_11ed_bcca_8c859025e7f9row43_col1\" class=\"data row43 col1\" >0.000466</td>\n",
       "            </tr>\n",
       "            <tr>\n",
       "                        <th id=\"T_20b673f6_b9c5_11ed_bcca_8c859025e7f9level0_row44\" class=\"row_heading level0 row44\" >45</th>\n",
       "                        <td id=\"T_20b673f6_b9c5_11ed_bcca_8c859025e7f9row44_col0\" class=\"data row44 col0\" >salvo</td>\n",
       "                        <td id=\"T_20b673f6_b9c5_11ed_bcca_8c859025e7f9row44_col1\" class=\"data row44 col1\" >0.000418</td>\n",
       "            </tr>\n",
       "            <tr>\n",
       "                        <th id=\"T_20b673f6_b9c5_11ed_bcca_8c859025e7f9level0_row45\" class=\"row_heading level0 row45\" >46</th>\n",
       "                        <td id=\"T_20b673f6_b9c5_11ed_bcca_8c859025e7f9row45_col0\" class=\"data row45 col0\" >shoal</td>\n",
       "                        <td id=\"T_20b673f6_b9c5_11ed_bcca_8c859025e7f9row45_col1\" class=\"data row45 col1\" >0.000401</td>\n",
       "            </tr>\n",
       "            <tr>\n",
       "                        <th id=\"T_20b673f6_b9c5_11ed_bcca_8c859025e7f9level0_row46\" class=\"row_heading level0 row46\" >47</th>\n",
       "                        <td id=\"T_20b673f6_b9c5_11ed_bcca_8c859025e7f9row46_col0\" class=\"data row46 col0\" >scaly</td>\n",
       "                        <td id=\"T_20b673f6_b9c5_11ed_bcca_8c859025e7f9row46_col1\" class=\"data row46 col1\" >0.000251</td>\n",
       "            </tr>\n",
       "            <tr>\n",
       "                        <th id=\"T_20b673f6_b9c5_11ed_bcca_8c859025e7f9level0_row47\" class=\"row_heading level0 row47\" >48</th>\n",
       "                        <td id=\"T_20b673f6_b9c5_11ed_bcca_8c859025e7f9row47_col0\" class=\"data row47 col0\" >banal</td>\n",
       "                        <td id=\"T_20b673f6_b9c5_11ed_bcca_8c859025e7f9row47_col1\" class=\"data row47 col1\" >0.000239</td>\n",
       "            </tr>\n",
       "            <tr>\n",
       "                        <th id=\"T_20b673f6_b9c5_11ed_bcca_8c859025e7f9level0_row48\" class=\"row_heading level0 row48\" >49</th>\n",
       "                        <td id=\"T_20b673f6_b9c5_11ed_bcca_8c859025e7f9row48_col0\" class=\"data row48 col0\" >caulk</td>\n",
       "                        <td id=\"T_20b673f6_b9c5_11ed_bcca_8c859025e7f9row48_col1\" class=\"data row48 col1\" >0.000226</td>\n",
       "            </tr>\n",
       "            <tr>\n",
       "                        <th id=\"T_20b673f6_b9c5_11ed_bcca_8c859025e7f9level0_row49\" class=\"row_heading level0 row49\" >50</th>\n",
       "                        <td id=\"T_20b673f6_b9c5_11ed_bcca_8c859025e7f9row49_col0\" class=\"data row49 col0\" >balmy</td>\n",
       "                        <td id=\"T_20b673f6_b9c5_11ed_bcca_8c859025e7f9row49_col1\" class=\"data row49 col1\" >0.000194</td>\n",
       "            </tr>\n",
       "            <tr>\n",
       "                        <th id=\"T_20b673f6_b9c5_11ed_bcca_8c859025e7f9level0_row50\" class=\"row_heading level0 row50\" >51</th>\n",
       "                        <td id=\"T_20b673f6_b9c5_11ed_bcca_8c859025e7f9row50_col0\" class=\"data row50 col0\" >offal</td>\n",
       "                        <td id=\"T_20b673f6_b9c5_11ed_bcca_8c859025e7f9row50_col1\" class=\"data row50 col1\" >0.000179</td>\n",
       "            </tr>\n",
       "            <tr>\n",
       "                        <th id=\"T_20b673f6_b9c5_11ed_bcca_8c859025e7f9level0_row51\" class=\"row_heading level0 row51\" >52</th>\n",
       "                        <td id=\"T_20b673f6_b9c5_11ed_bcca_8c859025e7f9row51_col0\" class=\"data row51 col0\" >lanky</td>\n",
       "                        <td id=\"T_20b673f6_b9c5_11ed_bcca_8c859025e7f9row51_col1\" class=\"data row51 col1\" >0.000135</td>\n",
       "            </tr>\n",
       "            <tr>\n",
       "                        <th id=\"T_20b673f6_b9c5_11ed_bcca_8c859025e7f9level0_row52\" class=\"row_heading level0 row52\" >53</th>\n",
       "                        <td id=\"T_20b673f6_b9c5_11ed_bcca_8c859025e7f9row52_col0\" class=\"data row52 col0\" >dally</td>\n",
       "                        <td id=\"T_20b673f6_b9c5_11ed_bcca_8c859025e7f9row52_col1\" class=\"data row52 col1\" >0.000132</td>\n",
       "            </tr>\n",
       "            <tr>\n",
       "                        <th id=\"T_20b673f6_b9c5_11ed_bcca_8c859025e7f9level0_row53\" class=\"row_heading level0 row53\" >54</th>\n",
       "                        <td id=\"T_20b673f6_b9c5_11ed_bcca_8c859025e7f9row53_col0\" class=\"data row53 col0\" >loamy</td>\n",
       "                        <td id=\"T_20b673f6_b9c5_11ed_bcca_8c859025e7f9row53_col1\" class=\"data row53 col1\" >0.000127</td>\n",
       "            </tr>\n",
       "            <tr>\n",
       "                        <th id=\"T_20b673f6_b9c5_11ed_bcca_8c859025e7f9level0_row54\" class=\"row_heading level0 row54\" >55</th>\n",
       "                        <td id=\"T_20b673f6_b9c5_11ed_bcca_8c859025e7f9row54_col0\" class=\"data row54 col0\" >gaily</td>\n",
       "                        <td id=\"T_20b673f6_b9c5_11ed_bcca_8c859025e7f9row54_col1\" class=\"data row54 col1\" >0.000121</td>\n",
       "            </tr>\n",
       "            <tr>\n",
       "                        <th id=\"T_20b673f6_b9c5_11ed_bcca_8c859025e7f9level0_row55\" class=\"row_heading level0 row55\" >56</th>\n",
       "                        <td id=\"T_20b673f6_b9c5_11ed_bcca_8c859025e7f9row55_col0\" class=\"data row55 col0\" >scald</td>\n",
       "                        <td id=\"T_20b673f6_b9c5_11ed_bcca_8c859025e7f9row55_col1\" class=\"data row55 col1\" >0.000094</td>\n",
       "            </tr>\n",
       "            <tr>\n",
       "                        <th id=\"T_20b673f6_b9c5_11ed_bcca_8c859025e7f9level0_row56\" class=\"row_heading level0 row56\" >57</th>\n",
       "                        <td id=\"T_20b673f6_b9c5_11ed_bcca_8c859025e7f9row56_col0\" class=\"data row56 col0\" >qualm</td>\n",
       "                        <td id=\"T_20b673f6_b9c5_11ed_bcca_8c859025e7f9row56_col1\" class=\"data row56 col1\" >0.000032</td>\n",
       "            </tr>\n",
       "            <tr>\n",
       "                        <th id=\"T_20b673f6_b9c5_11ed_bcca_8c859025e7f9level0_row57\" class=\"row_heading level0 row57\" >58</th>\n",
       "                        <td id=\"T_20b673f6_b9c5_11ed_bcca_8c859025e7f9row57_col0\" class=\"data row57 col0\" >gayly</td>\n",
       "                        <td id=\"T_20b673f6_b9c5_11ed_bcca_8c859025e7f9row57_col1\" class=\"data row57 col1\" >0.000027</td>\n",
       "            </tr>\n",
       "            <tr>\n",
       "                        <th id=\"T_20b673f6_b9c5_11ed_bcca_8c859025e7f9level0_row58\" class=\"row_heading level0 row58\" >59</th>\n",
       "                        <td id=\"T_20b673f6_b9c5_11ed_bcca_8c859025e7f9row58_col0\" class=\"data row58 col0\" >cavil</td>\n",
       "                        <td id=\"T_20b673f6_b9c5_11ed_bcca_8c859025e7f9row58_col1\" class=\"data row58 col1\" >0.000026</td>\n",
       "            </tr>\n",
       "    </tbody></table>"
      ],
      "text/plain": [
       "<pandas.io.formats.style.Styler at 0x7fd6403e77f0>"
      ]
     },
     "metadata": {},
     "output_type": "display_data"
    },
    {
     "data": {
      "text/html": [
       "<style  type=\"text/css\" >\n",
       "</style><table id=\"T_20b98c1c_b9c5_11ed_a9d2_8c859025e7f9\" ><caption>Possible Words after word: noisy</caption><thead>    <tr>        <th class=\"blank level0\" ></th>        <th class=\"col_heading level0 col0\" >word</th>        <th class=\"col_heading level0 col1\" >probability</th>    </tr></thead><tbody>\n",
       "                <tr>\n",
       "                        <th id=\"T_20b98c1c_b9c5_11ed_a9d2_8c859025e7f9level0_row0\" class=\"row_heading level0 row0\" >1</th>\n",
       "                        <td id=\"T_20b98c1c_b9c5_11ed_a9d2_8c859025e7f9row0_col0\" class=\"data row0 col0\" >salsa</td>\n",
       "                        <td id=\"T_20b98c1c_b9c5_11ed_a9d2_8c859025e7f9row0_col1\" class=\"data row0 col1\" >1.000000</td>\n",
       "            </tr>\n",
       "    </tbody></table>"
      ],
      "text/plain": [
       "<pandas.io.formats.style.Styler at 0x7fd6403e7748>"
      ]
     },
     "metadata": {},
     "output_type": "display_data"
    },
    {
     "data": {
      "text/html": [
       "<style  type=\"text/css\" >\n",
       "</style><table id=\"T_20b9efc2_b9c5_11ed_a10a_8c859025e7f9\" ><caption>Possible Words after word: chump</caption><thead>    <tr>        <th class=\"blank level0\" ></th>        <th class=\"col_heading level0 col0\" >word</th>        <th class=\"col_heading level0 col1\" >probability</th>    </tr></thead><tbody>\n",
       "                <tr>\n",
       "                        <th id=\"T_20b9efc2_b9c5_11ed_a10a_8c859025e7f9level0_row0\" class=\"row_heading level0 row0\" >1</th>\n",
       "                        <td id=\"T_20b9efc2_b9c5_11ed_a10a_8c859025e7f9row0_col0\" class=\"data row0 col0\" >salsa</td>\n",
       "                        <td id=\"T_20b9efc2_b9c5_11ed_a10a_8c859025e7f9row0_col1\" class=\"data row0 col1\" >1.000000</td>\n",
       "            </tr>\n",
       "    </tbody></table>"
      ],
      "text/plain": [
       "<pandas.io.formats.style.Styler at 0x7fd63a7e2978>"
      ]
     },
     "metadata": {},
     "output_type": "display_data"
    }
   ],
   "source": [
    "for i,df in enumerate(list_df):\n",
    "    display.display(\n",
    "        df.style.set_caption(\n",
    "            f\"Possible Words after word: {words_used[i]}\"\n",
    "        )\n",
    "    )"
   ]
  },
  {
   "cell_type": "markdown",
   "id": "05d02892",
   "metadata": {},
   "source": [
    "___\n",
    "### Basic usage of the ```wordle_cheater```\n",
    "\n",
    "Create an instance of the class ```wordl``` in the```wordle_cheater.py``` module to help solve for the wordle solution **whine**."
   ]
  },
  {
   "cell_type": "code",
   "execution_count": null,
   "id": "e44165fc",
   "metadata": {},
   "outputs": [],
   "source": [
    "# instantiate the wordl class\n",
    "wdl = wrdlc.wordl()\n",
    "# get todays word\n",
    "td_word = wdl.todays_word"
   ]
  },
  {
   "cell_type": "markdown",
   "id": "3d5e4224",
   "metadata": {},
   "source": [
    "___\n",
    "### Add the word *alert* to the ```wdl``` instance.\n",
    "\n",
    "   * Each word that you add to the ```wordl``` instance requires an array of 5 integers between 1 and 3 (inclusive), for each of the 5 letters of the word that you add.  This array is called the ```letter_status```. \n",
    "   * The ```letter_status``` array tells the ```wordl.try_it()``` method one of 3 things about the respective letter:\n",
    "     1. The letter code is **1** for that letter if:\n",
    "       * that letter is *in the solution word*, and \n",
    "       * the letter's position in the word is *the same as the letter's position in the solution word*, \n",
    "     2. The letter code is **2** for that letter if:\n",
    "       * the letter is *in the solution word*, \n",
    "       * but *NOT in the same position as the solution word*\n",
    "     3. The letter code is **3** for that letter if:\n",
    "       * the letter is NOT at all in the solution word\n",
    "\n",
    "In other words:\n",
    "  * a status code of **1** is equal to the color **GREEN** in the Wordle Game, \n",
    "  * a status code of **2** is equal to the color **GOLD** in the Wordle Game, \n",
    "  * a status code of **3** is equal to the color **GREY** in the Wordle Game, \n",
    "\n",
    "\n",
    "#### For Example, when the solution word is **whine**:\n",
    "In the word **alert**:\n",
    "  1. The letter **a** is not in the word **whine**, so it's letter code = 3\n",
    "  2. The letter **l** is not in the word **whine**, so it's letter code = 3\n",
    "  3. The letter **e** is in the word **whine**, but NOT is the correct position, so it's letter code = 2\n",
    "  4. The letter **r** is not in the word **whine**, so it's letter code = 3\n",
    "  4. The letter **t** is not in the word **whine**, so it's letter code = 3\n",
    "\n",
    "So, for the word **alert**, the letter_status array is:\n",
    "  * ```[3,3,2,3,3]```"
   ]
  },
  {
   "cell_type": "code",
   "execution_count": null,
   "id": "d94744a8",
   "metadata": {},
   "outputs": [],
   "source": [
    "# add the word 'alert' to the instance\n",
    "wdl.add_word('alert',[3,3,2,3,3])\n",
    "df = wrdlc.filter_words(wdl.try_it()) \n",
    "df.probability = df.probability.round(5)\n",
    "display.display(\n",
    "    df.style.set_caption(\n",
    "        \"Possible Words After adding 'alert' to the wdl instance\"\n",
    "    )\n",
    ")"
   ]
  },
  {
   "cell_type": "markdown",
   "id": "6c882af8",
   "metadata": {},
   "source": [
    "___\n",
    "### Add the word *noisy* to the ```wdl``` instance.\n",
    "\n",
    "In the word **noisy**:\n",
    "  1. The letter **n** is in the word **whine**, but NOT is the correct position, so it's letter code = 2\n",
    "  2. The letter **o** is not in the word **whine**, so it's letter code = 3\n",
    "  3. The letter **i** is in the word **whine**, AND it is in the correct position, so it's letter code = 1\n",
    "  4. The letter **s** is not in the word **whine**, so it's letter code = 3\n",
    "  4. The letter **t** is not in the word **whine**, so it's letter code = 3\n",
    "\n",
    "So, for the word **noisy**, the letter_codes array is:\n",
    "  * ```[2,3,1,3,3]```"
   ]
  },
  {
   "cell_type": "code",
   "execution_count": null,
   "id": "7fc0248f",
   "metadata": {},
   "outputs": [],
   "source": [
    "wdl.add_word('noisy',[2,3,1,3,3])\n",
    "df = wrdlc.filter_words(wdl.try_it()) \n",
    "df.probability = df.probability.round(5)\n",
    "display.display(\n",
    "    df.style.set_caption(\n",
    "        \"Possible Words After adding 'noisy' to the wdl instance\"\n",
    "    )\n",
    ")"
   ]
  },
  {
   "cell_type": "markdown",
   "id": "13866bd2",
   "metadata": {},
   "source": [
    "### Since *being* is the most probable word, add it\n",
    "\n",
    "In the word **being**:\n",
    "  1. The letter **b** is not in the word **whine**, so it's letter code = 3\n",
    "  2. The letter **e**  is in the word **whine**, BUT is is NOT in the correct position, so it's letter code = 2\n",
    "  3. The letter **i** is in the word **whine**, AND it is in the correct position, so it's letter code = 1\n",
    "  4. The letter **n** is in the word **whine**, AND it is in the correct position, so it's letter code = 1\n",
    "  4. The letter **g** is not in the word **whine**, so it's letter code = 3\n",
    "\n",
    "So, for the word **being**, the letter_codes array is:\n",
    "  * ```[3,2,1,1,3]```"
   ]
  },
  {
   "cell_type": "code",
   "execution_count": null,
   "id": "7eeb5c8e",
   "metadata": {},
   "outputs": [],
   "source": [
    "wdl.add_word('being',[3,2,1,1,3])\n",
    "df = wrdlc.filter_words(wdl.try_it()) \n",
    "df.probability = df.probability.round(5)\n",
    "display.display(\n",
    "    df.style.set_caption(\n",
    "        \"Possible Words After adding 'being' to the wdl instance\"\n",
    "    )\n",
    ")"
   ]
  },
  {
   "cell_type": "markdown",
   "id": "bc1f4e56",
   "metadata": {},
   "source": [
    "___\n",
    "### The only word left is *whine*.\n",
    "___"
   ]
  },
  {
   "cell_type": "markdown",
   "id": "5ba2fb4c",
   "metadata": {},
   "source": [
    "## Show frequencies of different letter combinations"
   ]
  },
  {
   "cell_type": "code",
   "execution_count": null,
   "id": "4981e7e4",
   "metadata": {},
   "outputs": [],
   "source": []
  },
  {
   "cell_type": "code",
   "execution_count": null,
   "id": "efa2afa3",
   "metadata": {},
   "outputs": [],
   "source": [
    "import string\n",
    "sss = string.ascii_lowercase\n",
    "df_ww = wrdlc.df_ww\n",
    "\n",
    "df_consonants = pd.DataFrame([\n",
    "    [l,df_ww[df_ww.word.str.contains(l)].count().values[0]]\n",
    "    for l in sss\n",
    "    if l not in ['a','e','i','o','u']\n",
    "],columns=['letter','num_times']).sort_values('num_times',ascending=False)\n",
    "\n",
    "df_vowels = pd.DataFrame([\n",
    "    [l,df_ww[df_ww.word.str.contains(l)].count().values[0]]\n",
    "    for l in sss\n",
    "    if l  in ['a','e','i','o','u']\n",
    "],columns=['letter','num_times']).sort_values('num_times',ascending=False)"
   ]
  },
  {
   "cell_type": "markdown",
   "id": "e278926f",
   "metadata": {},
   "source": [
    "#### Show vowel frequencies"
   ]
  },
  {
   "cell_type": "code",
   "execution_count": null,
   "id": "bad7f6b5",
   "metadata": {},
   "outputs": [],
   "source": [
    "df_vowels"
   ]
  },
  {
   "cell_type": "markdown",
   "id": "4c6c0e22",
   "metadata": {},
   "source": [
    "#### Show consonant frequencies"
   ]
  },
  {
   "cell_type": "code",
   "execution_count": null,
   "id": "75835c0d",
   "metadata": {},
   "outputs": [],
   "source": [
    "df_consonants"
   ]
  },
  {
   "cell_type": "markdown",
   "id": "fe9aa251",
   "metadata": {},
   "source": [
    "#### Show frequencies of first letters"
   ]
  },
  {
   "cell_type": "code",
   "execution_count": null,
   "id": "c955784f",
   "metadata": {},
   "outputs": [],
   "source": [
    "df_first_letters = pd.DataFrame([\n",
    "    [l,df_ww[df_ww.word.str.slice(0,1)==l].count().values[0]]\n",
    "    for l in sss\n",
    "    if l  in string.ascii_lowercase\n",
    "],columns=['letter','num_times']).sort_values('num_times',ascending=False)\n",
    "df_first_letters"
   ]
  },
  {
   "cell_type": "markdown",
   "id": "e4b77449",
   "metadata": {},
   "source": [
    "#### Show frequencies of last letters"
   ]
  },
  {
   "cell_type": "code",
   "execution_count": null,
   "id": "0ebeeeda",
   "metadata": {},
   "outputs": [],
   "source": [
    "df_last_letters = pd.DataFrame([\n",
    "    [l,df_ww[df_ww.word.str.slice(4,5)==l].count().values[0]]\n",
    "    for l in sss\n",
    "    if l  in string.ascii_lowercase\n",
    "],columns=['letter','num_times']).sort_values('num_times',ascending=False)\n",
    "df_last_letters"
   ]
  },
  {
   "cell_type": "markdown",
   "id": "8aef8983",
   "metadata": {},
   "source": [
    "#### For a given value of ```letter_combo``` below, show the most frequent possible words"
   ]
  },
  {
   "cell_type": "code",
   "execution_count": null,
   "id": "f3d6fdd2",
   "metadata": {},
   "outputs": [],
   "source": [
    "letter_combo = 'sate'\n",
    "def part_of(word,letters = letter_combo):\n",
    "    return all([l in word for l in letters])\n",
    "\n",
    "df_wwpo = wrdlc.df_ww[wrdlc.df_ww.word.apply(part_of)]\n",
    "df_wwpo = df_wwpo.merge(wrdlc.df_ugf,on='word').sort_values('count',ascending=False)\n",
    "df_wwpo['perc'] = df_wwpo['count'] / df_wwpo['count'].sum()\n",
    "df_wwpo.head(20)"
   ]
  },
  {
   "cell_type": "markdown",
   "id": "d070e0b2",
   "metadata": {},
   "source": [
    "#### Show most current wordle solution history"
   ]
  },
  {
   "cell_type": "code",
   "execution_count": null,
   "id": "2beacbda",
   "metadata": {},
   "outputs": [],
   "source": [
    "wdl.df_word_history"
   ]
  },
  {
   "cell_type": "code",
   "execution_count": null,
   "id": "a5a1ff87",
   "metadata": {},
   "outputs": [],
   "source": [
    "df_uf = pd.read_csv('unigram_freq.csv')\n",
    "df_uf"
   ]
  },
  {
   "cell_type": "code",
   "execution_count": null,
   "id": "b828eef1",
   "metadata": {},
   "outputs": [],
   "source": [
    "import string\n",
    "alllets = string.ascii_lowercase\n",
    "def difflets(a1,a2):\n",
    "    a3 = ''.join(sorted(set(a1).difference(set(a2))))\n",
    "    return a3\n",
    "badlets = 'alertno'\n",
    "goodlets = difflets(alllets,badlets)\n",
    "goodlets"
   ]
  },
  {
   "cell_type": "code",
   "execution_count": null,
   "id": "76693517",
   "metadata": {},
   "outputs": [],
   "source": [
    "# r1 = difflets(goodlets,'eijqsuy')\n",
    "# g2 = [\n",
    "#     '_is.y'.replace('.',v) for v in r1\n",
    "# ]\n",
    "# g2"
   ]
  },
  {
   "cell_type": "code",
   "execution_count": null,
   "id": "8ae6606a",
   "metadata": {},
   "outputs": [],
   "source": []
  },
  {
   "cell_type": "code",
   "execution_count": null,
   "id": "5255f308",
   "metadata": {},
   "outputs": [],
   "source": [
    "# r1 = difflets(goodlets,'eijqsuy')\n",
    "# g2 = [\n",
    "#     'si_.y'.replace('.',v) for v in r1\n",
    "# ]\n",
    "# g2"
   ]
  },
  {
   "cell_type": "markdown",
   "id": "4905786e",
   "metadata": {},
   "source": [
    "### Get new df_word_history.csv\n",
    "\n",
    "df_word_history.csv contains a list of wordle solutions for past and future dates"
   ]
  },
  {
   "cell_type": "code",
   "execution_count": 42,
   "id": "59e02743",
   "metadata": {},
   "outputs": [],
   "source": [
    "df_word_history = wrdlc.get_combined_word_histories()"
   ]
  },
  {
   "cell_type": "code",
   "execution_count": 45,
   "id": "8ee4c095",
   "metadata": {},
   "outputs": [
    {
     "data": {
      "text/plain": [
       "[30, 30]"
      ]
     },
     "execution_count": 45,
     "metadata": {},
     "output_type": "execute_result"
    }
   ],
   "source": [
    "[\n",
    "    len(df_word_history[df_word_history['date'].str.lower().str.contains('apr')]['date']),\n",
    "    len(df_word_history[df_word_history['date'].str.lower().str.contains('apr')]['date'].unique()),\n",
    "]"
   ]
  },
  {
   "cell_type": "code",
   "execution_count": null,
   "id": "698c3cc3",
   "metadata": {},
   "outputs": [],
   "source": [
    "# df_word_history.to_csv('temp_folder/df_word_history.csv',index=False)"
   ]
  }
 ],
 "metadata": {
  "kernelspec": {
   "display_name": "Python 3",
   "language": "python",
   "name": "python3"
  },
  "language_info": {
   "codemirror_mode": {
    "name": "ipython",
    "version": 3
   },
   "file_extension": ".py",
   "mimetype": "text/x-python",
   "name": "python",
   "nbconvert_exporter": "python",
   "pygments_lexer": "ipython3",
   "version": "3.6.5"
  }
 },
 "nbformat": 4,
 "nbformat_minor": 5
}
